{
 "cells": [
  {
   "cell_type": "code",
   "execution_count": 20,
   "id": "cc884bdf-58fc-4518-b60a-3f68072e1772",
   "metadata": {},
   "outputs": [
    {
     "data": {
      "text/plain": [
       "7"
      ]
     },
     "execution_count": 20,
     "metadata": {},
     "output_type": "execute_result"
    }
   ],
   "source": [
    "#length of the salaries listt\n",
    "salaries = ['20k','40k','50k','60k','35k','89k','40k']\n",
    "len(salaries)"
   ]
  },
  {
   "cell_type": "code",
   "execution_count": 26,
   "id": "fc936cf3-cf2e-44ba-aad2-da0bfa513325",
   "metadata": {},
   "outputs": [
    {
     "data": {
      "text/plain": [
       "'50k'"
      ]
     },
     "execution_count": 26,
     "metadata": {},
     "output_type": "execute_result"
    }
   ],
   "source": [
    "#Retrieve the third salary in the list by using an index:\n",
    "salaries[2]"
   ]
  },
  {
   "cell_type": "code",
   "execution_count": 25,
   "id": "d45521ec-5e4c-4b06-ba0d-0c4e2b17b1ee",
   "metadata": {},
   "outputs": [
    {
     "data": {
      "text/plain": [
       "'40k'"
      ]
     },
     "execution_count": 25,
     "metadata": {},
     "output_type": "execute_result"
    }
   ],
   "source": [
    "#Extract the last salary using a negative index:\n",
    "salaries[-1]"
   ]
  },
  {
   "cell_type": "code",
   "execution_count": 24,
   "id": "60e18918-2a50-4ebc-ad00-6da816fab4da",
   "metadata": {},
   "outputs": [
    {
     "data": {
      "text/plain": [
       "['50k', '60k', '35k']"
      ]
     },
     "execution_count": 24,
     "metadata": {},
     "output_type": "execute_result"
    }
   ],
   "source": [
    "#Slice the salaries list to get only the middle three salaries\n",
    "salaries[2:5]"
   ]
  },
  {
   "cell_type": "code",
   "execution_count": 27,
   "id": "535545b0-739f-48af-9929-5ec992ea6f55",
   "metadata": {},
   "outputs": [
    {
     "data": {
      "text/plain": [
       "['20k', '40k', '50k', '60k', '35k', '89k', '40k', '100k']"
      ]
     },
     "execution_count": 27,
     "metadata": {},
     "output_type": "execute_result"
    }
   ],
   "source": [
    "#Add a new salary, '100k', using the append() method:\n",
    "salaries.append('100k')\n",
    "salaries"
   ]
  },
  {
   "cell_type": "code",
   "execution_count": 28,
   "id": "b9648923-2354-4bbf-8399-71329b0bd578",
   "metadata": {},
   "outputs": [
    {
     "data": {
      "text/plain": [
       "['20k', '40k', '50k', '60k', '35k', '89k', '40k', '100k', '120k']"
      ]
     },
     "execution_count": 28,
     "metadata": {},
     "output_type": "execute_result"
    }
   ],
   "source": [
    "#Add a new salary, '120k', without using a method:\n",
    "salaries += ['120k']\n",
    "salaries"
   ]
  },
  {
   "cell_type": "code",
   "execution_count": 29,
   "id": "b6d220bf-2ba3-40b8-90a6-e851caa0f762",
   "metadata": {},
   "outputs": [
    {
     "data": {
      "text/plain": [
       "['20k', '40k', '55k', '60k', '35k', '89k', '40k', '100k', '120k']"
      ]
     },
     "execution_count": 29,
     "metadata": {},
     "output_type": "execute_result"
    }
   ],
   "source": [
    "#Replace the third salary in the list with '55k' and print the updated list:\n",
    "salaries[2] = '55k'\n",
    "salaries"
   ]
  },
  {
   "cell_type": "code",
   "execution_count": 30,
   "id": "5ec04287-9291-4ac4-bb81-919670f34736",
   "metadata": {},
   "outputs": [
    {
     "data": {
      "text/plain": [
       "2"
      ]
     },
     "execution_count": 30,
     "metadata": {},
     "output_type": "execute_result"
    }
   ],
   "source": [
    "#Count how many times '40k' appears in the list:\n",
    "salaries.count('40k')"
   ]
  },
  {
   "cell_type": "code",
   "execution_count": 31,
   "id": "aaefbd81-b9cb-418c-9ada-8c5da6593e8e",
   "metadata": {},
   "outputs": [
    {
     "data": {
      "text/plain": [
       "['20k', '45k', '40k', '55k', '60k', '35k', '89k', '40k', '100k', '120k']"
      ]
     },
     "execution_count": 31,
     "metadata": {},
     "output_type": "execute_result"
    }
   ],
   "source": [
    "#Insert a new salary at the second position:\n",
    "salaries.insert(1, '45k')\n",
    "salaries"
   ]
  },
  {
   "cell_type": "code",
   "execution_count": 32,
   "id": "18983eda-b5e2-4520-bcb8-9892c3ef4f75",
   "metadata": {},
   "outputs": [
    {
     "data": {
      "text/plain": [
       "['120k', '100k', '40k', '89k', '35k', '60k', '55k', '40k', '45k', '20k']"
      ]
     },
     "execution_count": 32,
     "metadata": {},
     "output_type": "execute_result"
    }
   ],
   "source": [
    "#Reverse the order of the salaries list with a method\n",
    "salaries.reverse()\n",
    "salaries"
   ]
  },
  {
   "cell_type": "code",
   "execution_count": 33,
   "id": "44ec138c-1518-43ef-bb44-0b8a9dd8ea60",
   "metadata": {},
   "outputs": [
    {
     "data": {
      "text/plain": [
       "['20k', '45k', '40k', '55k', '60k', '35k', '89k', '40k', '100k', '120k']"
      ]
     },
     "execution_count": 33,
     "metadata": {},
     "output_type": "execute_result"
    }
   ],
   "source": [
    "#Reverse the order of the salaries list without a method\n",
    "salaries = salaries[::-1]\n",
    "salaries"
   ]
  },
  {
   "cell_type": "code",
   "execution_count": null,
   "id": "fdf217b0-8b52-4081-b593-49b5edd935db",
   "metadata": {},
   "outputs": [],
   "source": []
  }
 ],
 "metadata": {
  "kernelspec": {
   "display_name": "Python 3 (ipykernel)",
   "language": "python",
   "name": "python3"
  },
  "language_info": {
   "codemirror_mode": {
    "name": "ipython",
    "version": 3
   },
   "file_extension": ".py",
   "mimetype": "text/x-python",
   "name": "python",
   "nbconvert_exporter": "python",
   "pygments_lexer": "ipython3",
   "version": "3.12.7"
  }
 },
 "nbformat": 4,
 "nbformat_minor": 5
}
