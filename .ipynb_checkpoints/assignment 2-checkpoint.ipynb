{
 "cells": [
  {
   "cell_type": "markdown",
   "id": "850f6145-c80d-4a01-b269-531cef16f460",
   "metadata": {},
   "source": [
    "#QUESTION NO 1"
   ]
  },
  {
   "cell_type": "code",
   "execution_count": 9,
   "id": "6b4e9853-c65c-4635-aa44-94a4860d735f",
   "metadata": {},
   "outputs": [
    {
     "name": "stdin",
     "output_type": "stream",
     "text": [
      "enter age: 59\n"
     ]
    },
    {
     "name": "stdout",
     "output_type": "stream",
     "text": [
      "Adult\n"
     ]
    }
   ],
   "source": [
    "age = int(input(\"enter age:\"))\n",
    "if (age < 0 ):\n",
    "    print(\"invalid\")\n",
    "elif(age > 0 and age <= 12):\n",
    "    print(\"Child\")\n",
    "elif( age >= 13 and age <= 19):\n",
    "    print(\"Tteenager\")\n",
    "elif ( age >=20 and age <=64):\n",
    "    print(\"Adult\")\n",
    "else:\n",
    "    print(\"Senior\")"
   ]
  },
  {
   "cell_type": "markdown",
   "id": "70c9314f-29f0-4557-be9e-bcb9437939ec",
   "metadata": {},
   "source": [
    "#QUESTION NO 2"
   ]
  },
  {
   "cell_type": "code",
   "execution_count": 11,
   "id": "f7fa45cd-5459-41eb-be39-1d8834a73145",
   "metadata": {},
   "outputs": [
    {
     "name": "stdin",
     "output_type": "stream",
     "text": [
      "Enter membership:  premium \n",
      "Enter amount:  120\n"
     ]
    },
    {
     "name": "stdout",
     "output_type": "stream",
     "text": [
      "Not eligible for discount\n"
     ]
    }
   ],
   "source": [
    "customer_membership = input(\"Enter membership: \")\n",
    "purchase_amount = int(input(\"Enter amount: \"))\n",
    "\n",
    "print(\"Eligible for discount\") if (customer_membership == \"premium\" and purchase_amount >= 1000) or (customer_membership == \"regular\" and purchase_amount >= 2000) else print(\"Not eligible for discount\")\n"
   ]
  },
  {
   "cell_type": "markdown",
   "id": "04ba467a-9921-420d-a52a-7dc1cc53c2b6",
   "metadata": {},
   "source": [
    "#QUESTION NO 3"
   ]
  },
  {
   "cell_type": "code",
   "execution_count": 17,
   "id": "bb49102f-8203-4b31-8d27-ee1b6c94da9d",
   "metadata": {},
   "outputs": [
    {
     "name": "stdin",
     "output_type": "stream",
     "text": [
      "Enter age:  18\n",
      "Enter status:  citizen\n",
      "Are you from a special region? (yes/no):  no\n"
     ]
    },
    {
     "name": "stdout",
     "output_type": "stream",
     "text": [
      "Eligible to vote\n"
     ]
    }
   ],
   "source": [
    "age = int(input(\"Enter age: \"))\n",
    "citizenship_status = input(\"Enter status: \")\n",
    "special_region = input(\"Are you from a special region? (yes/no): \")\n",
    "if ( age >= 18 and citizenship_status == \"citizen\") or (age == 16 and citizenship_status == \"citizen\" and special_region == \"yes\"):\n",
    "    print(\"Eligible to vote\")\n",
    "elif (age < 18 and citizenship_status == \"non_citizen\") or (age >= 18 and citizenship_status == \"non_citizen\") or (age < 18 and citizenship_status == \"citizen\"):\n",
    "    print(\"Not eligible to vote\")\n",
    "else:\n",
    "    print(\"Invalid input\")\n",
    "\n"
   ]
  },
  {
   "cell_type": "markdown",
   "id": "b5c4247d-dc95-4778-b3d3-087a4ccfd8a3",
   "metadata": {},
   "source": [
    "#QUESTION NO 4"
   ]
  },
  {
   "cell_type": "code",
   "execution_count": 22,
   "id": "4dcc513a-2990-4bdb-bd45-fdf5ac603be2",
   "metadata": {},
   "outputs": [
    {
     "name": "stdin",
     "output_type": "stream",
     "text": [
      "enter performance excelent\n",
      "service of year 6\n"
     ]
    },
    {
     "name": "stdout",
     "output_type": "stream",
     "text": [
      "employee is eligible for bonus\n"
     ]
    }
   ],
   "source": [
    "performance_rating = input(\"enter performance\")\n",
    "service_of_year = int(input(\"service of year\"))\n",
    "print (\"employee is eligible for bonus\") if (performance_rating == \"excelent\" and service_of_year >=5) or (performance_rating == \"good\" and service_of_year >=10) or (performance_rating == \"satisfactory\" and service_of_year >=15) else print(\"not eligible for bonus\")"
   ]
  },
  {
   "cell_type": "markdown",
   "id": "0e7baa7d-3db9-4c11-9169-54e6b8f483f7",
   "metadata": {},
   "source": [
    "#QUESTION NO 5"
   ]
  },
  {
   "cell_type": "code",
   "execution_count": 24,
   "id": "6b4968de-b272-484f-a2b2-3f9cc1e314d8",
   "metadata": {},
   "outputs": [
    {
     "name": "stdout",
     "output_type": "stream",
     "text": [
      "Modified text: I'm_learning_python_programming\n",
      "Number of underscores: 3\n",
      "First underscore position: 3\n"
     ]
    }
   ],
   "source": [
    "text = \"I'm learning python programming\"\n",
    "\n",
    "modified_text = text.replace(\" \", \"_\")\n",
    "underscore_count = modified_text.count(\"_\")\n",
    "first_underscore_position = modified_text.find(\"_\")\n",
    "\n",
    "print(\"Modified text:\", modified_text)\n",
    "print(\"Number of underscores:\", underscore_count)\n",
    "print(\"First underscore position:\", first_underscore_position)"
   ]
  },
  {
   "cell_type": "markdown",
   "id": "7d98e498-d7d5-4340-9357-eebe7d3fc7df",
   "metadata": {},
   "source": [
    "#QUESTION NO 6"
   ]
  },
  {
   "cell_type": "code",
   "execution_count": 30,
   "id": "5500b5a2-a9a0-4249-8936-eeca95ad647d",
   "metadata": {},
   "outputs": [
    {
     "name": "stdin",
     "output_type": "stream",
     "text": [
      "Enter a string:  chaina\n"
     ]
    },
    {
     "name": "stdout",
     "output_type": "stream",
     "text": [
      "All characters except the last three: cha\n",
      "Every second character: can\n",
      "String in reverse: aniahc\n"
     ]
    }
   ],
   "source": [
    "user_input = input(\"Enter a string: \")\n",
    "\n",
    "print(\"All characters except the last three:\", user_input[:-3])\n",
    "print(\"Every second character:\", user_input[::2])\n",
    "print(\"String in reverse:\", user_input[::-1])"
   ]
  },
  {
   "cell_type": "markdown",
   "id": "2484667f-2422-4dda-b27f-550e73bcc099",
   "metadata": {},
   "source": [
    "#QUESTION 7"
   ]
  },
  {
   "cell_type": "code",
   "execution_count": 34,
   "id": "d8f4a9ff-c869-4adf-9c08-cdda09c25e7a",
   "metadata": {},
   "outputs": [
    {
     "name": "stdout",
     "output_type": "stream",
     "text": [
      "Reversed sentence: Python learning are We World, Hello\n"
     ]
    }
   ],
   "source": [
    "sentence = \"Hello World, We are learning Python\"\n",
    "\n",
    "words = sentence.split()\n",
    "\n",
    "reversed_words = words[::-1]\n",
    "reversed_sentence = \" \".join(reversed_words)\n",
    "print(\"Reversed sentence:\", reversed_sentence)"
   ]
  },
  {
   "cell_type": "markdown",
   "id": "55d4d56e-f667-4652-bff7-25fee25d6b4c",
   "metadata": {},
   "source": [
    "#QUESTION NO 8"
   ]
  },
  {
   "cell_type": "code",
   "execution_count": 35,
   "id": "875f9acf-5408-4153-a00b-6c68b934648a",
   "metadata": {},
   "outputs": [
    {
     "name": "stdout",
     "output_type": "stream",
     "text": [
      "Extracted number: 12345\n"
     ]
    }
   ],
   "source": [
    "product_code = \"SKU-12345-XYZ\"\n",
    "number = product_code.replace(\"SKU-\", \"\").replace(\"-XYZ\", \"\")\n",
    "\n",
    "print(f\"Extracted number: {number}\")"
   ]
  },
  {
   "cell_type": "markdown",
   "id": "6cab288a-196c-42f9-a2c9-2a6b313a9bed",
   "metadata": {},
   "source": [
    "#QUESTION NO 9"
   ]
  },
  {
   "cell_type": "code",
   "execution_count": 36,
   "id": "006c75c9-46b6-4e81-adc1-9d91716fa9c5",
   "metadata": {},
   "outputs": [
    {
     "name": "stdin",
     "output_type": "stream",
     "text": [
      "Enter your password:  Hello@World 123\n"
     ]
    },
    {
     "name": "stdout",
     "output_type": "stream",
     "text": [
      "Password checks:\n",
      "Contains uppercase characters: True\n",
      "Contains lowercase characters: True\n",
      "Contains spaces: True\n",
      "Contains special characters: True\n"
     ]
    }
   ],
   "source": [
    "password = input(\"Enter your password: \")\n",
    "\n",
    "has_uppercase = any(c.isupper() for c in password)\n",
    "has_lowercase = any(c.islower() for c in password)\n",
    "has_spaces = \" \" in password\n",
    "has_special_characters = any(not c.isalnum() and c != \" \" for c in password)\n",
    "\n",
    "print(\"Password checks:\")\n",
    "print(\"Contains uppercase characters:\", has_uppercase)\n",
    "print(\"Contains lowercase characters:\", has_lowercase)\n",
    "print(\"Contains spaces:\", has_spaces)\n",
    "print(\"Contains special characters:\", has_special_characters)"
   ]
  },
  {
   "cell_type": "markdown",
   "id": "b55cca81-0729-40bf-8535-a857386734e1",
   "metadata": {},
   "source": [
    "#QUESTION NO 10"
   ]
  },
  {
   "cell_type": "code",
   "execution_count": 37,
   "id": "93d5d1fe-0691-4b01-8551-ef3f5dc28383",
   "metadata": {},
   "outputs": [
    {
     "name": "stdout",
     "output_type": "stream",
     "text": [
      "Longest word: programming\n"
     ]
    }
   ],
   "source": [
    "input_string = \"I love programming in Python\"\n",
    "words = input_string.split()\n",
    "longest_word = max(words, key=len)\n",
    "print(\"Longest word:\", longest_word)"
   ]
  },
  {
   "cell_type": "code",
   "execution_count": null,
   "id": "2d75b4e7-278f-44b7-9f23-64241c8cc7a3",
   "metadata": {},
   "outputs": [],
   "source": []
  }
 ],
 "metadata": {
  "kernelspec": {
   "display_name": "Python 3 (ipykernel)",
   "language": "python",
   "name": "python3"
  },
  "language_info": {
   "codemirror_mode": {
    "name": "ipython",
    "version": 3
   },
   "file_extension": ".py",
   "mimetype": "text/x-python",
   "name": "python",
   "nbconvert_exporter": "python",
   "pygments_lexer": "ipython3",
   "version": "3.12.7"
  }
 },
 "nbformat": 4,
 "nbformat_minor": 5
}
