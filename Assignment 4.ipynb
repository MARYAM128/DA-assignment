{
 "cells": [
  {
   "cell_type": "markdown",
   "id": "3a20ef9e-e09e-469b-9b5a-fcb8370604eb",
   "metadata": {},
   "source": [
    "#QUESTION NO 1:"
   ]
  },
  {
   "cell_type": "code",
   "execution_count": 6,
   "id": "6c734d19-db8c-455e-9a46-2398da2b05ae",
   "metadata": {},
   "outputs": [
    {
     "name": "stdout",
     "output_type": "stream",
     "text": [
      "(1, 2, 3)\n",
      "[4, 5, 6]\n",
      "('apple', 'banana', 'cherry')\n",
      "[7, 8, 9]\n",
      "\n",
      "New tuple by concatenating the first and last elements:\n",
      "(1, 2, 3, 7, 8, 9)\n"
     ]
    }
   ],
   "source": [
    "my_tuple = ( (1, 2, 3), [4, 5, 6], (\"apple\",\"banana\",\"cherry\"), [7, 8, 9] )\n",
    "# Print all elements from my_tuple on a new line (using for looP)\n",
    "for element in my_tuple:\n",
    "    print(element)\n",
    "#Create a new tuple by concatenating the first and last elements of my_tuple \n",
    "new_tuple = my_tuple[0] + tuple(my_tuple[-1])\n",
    "print(\"\\nNew tuple by concatenating the first and last elements:\")\n",
    "print(new_tuple)"
   ]
  },
  {
   "cell_type": "markdown",
   "id": "e09ec648-8a8b-480b-9e25-42cc2968b30f",
   "metadata": {},
   "source": [
    "#QUESTION NO 2:"
   ]
  },
  {
   "cell_type": "code",
   "execution_count": 40,
   "id": "3f18c418-85eb-4202-b745-236788e00d36",
   "metadata": {},
   "outputs": [
    {
     "name": "stdout",
     "output_type": "stream",
     "text": [
      "{'The Great Gatsby': {'price': 10.99, 'quantity': 5}, 'Rich dad poor dad': {'price': 8.99, 'quantity': 8}, 'Harry Potter': {'price': 12.5, 'quantity': 2}, 'The Alchemist': {'price': 6, 'quantity': 0}}\n",
      "\n",
      "All Book Titles:\n",
      "['The Great Gatsby', 'Rich dad poor dad', 'Harry Potter', 'The Alchemist']\n",
      "\n",
      "after Remove a book \n",
      "{'The Great Gatsby': {'price': 10.99, 'quantity': 5}, 'Rich dad poor dad': {'price': 8.99, 'quantity': 8}, 'Harry Potter': {'price': 12.5, 'quantity': 2}}\n"
     ]
    }
   ],
   "source": [
    "inventory = { \n",
    "    \"The Great Gatsby\":{\n",
    "        \"price\": 10.99,\n",
    "        \"quantity\": 5\n",
    "    },\n",
    "    \"Rich dad poor dad\": {\n",
    "        \"price\":8.99,\n",
    "        \"quantity\": 8\n",
    "    },\n",
    "    \"Harry Potter\": {\n",
    "        \"price\": 12.50,\n",
    "        \"quantity\": 2\n",
    "    }\n",
    "}\n",
    "#Add a new book in inventory using method and get all book titles using method\n",
    "inventory.update({'The Alchemist': {\"price\":6 , \"quantity\" : 0}})\n",
    "print(inventory)\n",
    "\n",
    "\n",
    "#Get all book titles using a method\n",
    "print(\"\\nAll Book Titles:\")\n",
    "print(list(inventory.keys()))\n",
    "\n",
    "# Remove a book if it's out of stock\n",
    "out_of_stock_books = [key for key, value in inventory.items() if value[\"quantity\"] == 0]\n",
    "for book in out_of_stock_books:\n",
    "    inventory.pop(book)\n",
    "    \n",
    "print(\"\\nafter Remove a book \")\n",
    "print(inventory)"
   ]
  },
  {
   "cell_type": "markdown",
   "id": "03394f90-16c7-485d-af32-7a4938acf147",
   "metadata": {},
   "source": [
    "#QUESTION NO 3:"
   ]
  },
  {
   "cell_type": "code",
   "execution_count": 48,
   "id": "4f251569-d4f3-4f83-9a57-0c241e7f16bd",
   "metadata": {},
   "outputs": [
    {
     "name": "stdout",
     "output_type": "stream",
     "text": [
      "{101: {'name': 'Laptop', 'category': 'Electronics', 'price': 1200, 'stock': 50}, 102: {'name': 'Shirt', 'category': 'Apparel', 'price': 25, 'stock': 250}, 103: {'name': 'Coffee Maker', 'category': 'Home Appliances', 'price': 80, 'stock': 30}, 104: {'name': 'Smartphone', 'category': 'Electronics', 'price': 700, 'stock': 100}}\n"
     ]
    }
   ],
   "source": [
    "products = { \n",
    "    101:\n",
    "    {\n",
    "        \"name\": \"Laptop\",\n",
    "        \"category\":\"Electronics\", \n",
    "        \"price\": 1200,\n",
    "        \"stock\": 50\n",
    "    },\n",
    "    102:\n",
    "    {\n",
    "        \"name\":\"Shirt\", \n",
    "        \"category\":\"Apparel\",\n",
    "        \"price\": 25,\n",
    "        \"stock\": 200\n",
    "    },\n",
    "    103:\n",
    "    {\n",
    "       \"name\":\"Coffee Maker\",\n",
    "        \"category\": \"Home Appliances\", \n",
    "        \"price\": 80,\n",
    "        \"stock\": 30\n",
    "    } \n",
    "}\n",
    "#Increase the stock of the Shirt product (add 50 more units)\n",
    "products[102][\"stock\"]+=50\n",
    "\n",
    "#Add a new product Smartphone\n",
    "products[104] = {\n",
    "    \"name\": \"Smartphone\",\n",
    "    \"category\": \"Electronics\",\n",
    "    \"price\": 700,\n",
    "    \"stock\": 100\n",
    "}\n",
    "\n",
    "print(products)"
   ]
  },
  {
   "cell_type": "markdown",
   "id": "6a7720bf-7657-48ea-a3bc-5d7852c78ac0",
   "metadata": {},
   "source": [
    "#QUESTION NO 4:"
   ]
  },
  {
   "cell_type": "code",
   "execution_count": 49,
   "id": "4e8e0f32-91e8-4cde-8af0-cdfa8b460332",
   "metadata": {},
   "outputs": [
    {
     "name": "stdout",
     "output_type": "stream",
     "text": [
      "{'orange', 'apple', 'grape', 'banana'}\n"
     ]
    }
   ],
   "source": [
    "shopping_list = [\"apple\", \"banana\", \"apple\", \"orange\", \"banana\",\"grape\"]\n",
    "my_set = set(shopping_list)\n",
    "print(my_set)"
   ]
  },
  {
   "cell_type": "markdown",
   "id": "0c10dd52-b6a5-413c-b075-0b3f621d753a",
   "metadata": {},
   "source": [
    "#QUESTION NO :5"
   ]
  },
  {
   "cell_type": "code",
   "execution_count": 51,
   "id": "57c248ae-0e1a-449b-9e9e-e504e1327e9d",
   "metadata": {},
   "outputs": [
    {
     "name": "stdout",
     "output_type": "stream",
     "text": [
      "Students in Course A but not in Course B: {'John', 'Bob'}\n",
      "Students only in one of the two courses: {'Bob', 'Charlie', 'John', 'Eve'}\n"
     ]
    }
   ],
   "source": [
    "course_a = {\"John\", \"Alice\", \"Bob\", \"David\"}\n",
    "course_b = {\"Alice\", \"Eve\", \"Charlie\", \"David\"}\n",
    "\n",
    "difference = course_a - course_b\n",
    "print(\"Students in Course A but not in Course B:\", difference)\n",
    "\n",
    "symmetric_difference = course_a ^ course_b\n",
    "print(\"Students only in one of the two courses:\", symmetric_difference)\n"
   ]
  },
  {
   "cell_type": "markdown",
   "id": "9c249152-5f7b-44d3-a03a-0182ecdfed5c",
   "metadata": {},
   "source": [
    "#QUESTION NO :6"
   ]
  },
  {
   "cell_type": "code",
   "execution_count": 8,
   "id": "ded4e739-f473-485b-87a2-b2466390e71d",
   "metadata": {},
   "outputs": [
    {
     "name": "stdout",
     "output_type": "stream",
     "text": [
      "100\n"
     ]
    }
   ],
   "source": [
    "#Write a Python program that calculates the sum of all even numbers between 1 and 50\n",
    "#using a for loop.\n",
    "       \n",
    "       \n",
    "for i in range(2, 51):\n",
    "    if i % 2 == 0:\n",
    "        i += i\n",
    "print(i)\n",
    "    "
   ]
  },
  {
   "cell_type": "markdown",
   "id": "a29686e6-dbd4-4ccb-b309-890b299ec7c7",
   "metadata": {},
   "source": [
    "#QUESTION NO :7"
   ]
  },
  {
   "cell_type": "code",
   "execution_count": 17,
   "id": "8fbdd241-88a8-4fa0-bab8-7f017e3751c9",
   "metadata": {},
   "outputs": [
    {
     "name": "stdin",
     "output_type": "stream",
     "text": [
      "Enter a number between 1 and 10:  7\n"
     ]
    },
    {
     "name": "stdout",
     "output_type": "stream",
     "text": [
      "7 x 1 = 7\n",
      "7 x 2 = 14\n",
      "7 x 3 = 21\n",
      "7 x 4 = 28\n",
      "7 x 5 = 35\n",
      "7 x 6 = 42\n",
      "7 x 7 = 49\n",
      "7 x 8 = 56\n",
      "7 x 9 = 63\n",
      "7 x 10 = 70\n"
     ]
    }
   ],
   "source": [
    "#Write a Python program that prints the multiplication table for a given number (between 1 and 10) using a for loop.\n",
    "# Get the number from the user\n",
    "number = int(input(\"Enter a number between 1 and 10: \"))\n",
    "\n",
    "\n",
    "if 1 <= number <= 10:\n",
    "    \n",
    "    for i in range(1, 11):  # Loop from 1 to 10\n",
    "        print(f\"{number} x {i} = {number * i}\")\n",
    "else:\n",
    "    print(\"Please enter a valid number between 1 and 10.\")\n"
   ]
  },
  {
   "cell_type": "markdown",
   "id": "4e3bc497-edc8-4072-9b96-b1645bedbab6",
   "metadata": {},
   "source": [
    "#QUESTION NO :8"
   ]
  },
  {
   "cell_type": "code",
   "execution_count": 19,
   "id": "3cc2a80c-29b2-4869-8de9-2cd708be2cc0",
   "metadata": {},
   "outputs": [
    {
     "name": "stdin",
     "output_type": "stream",
     "text": [
      "Enter a number between 1 and 10:  3\n"
     ]
    },
    {
     "name": "stdout",
     "output_type": "stream",
     "text": [
      "3 ^ 1 = 3\n",
      "3 ^ 2 = 9\n",
      "3 ^ 3 = 27\n",
      "3 ^ 4 = 81\n",
      "3 ^ 5 = 243\n",
      "3 ^ 6 = 729\n",
      "3 ^ 7 = 2187\n",
      "3 ^ 8 = 6561\n",
      "3 ^ 9 = 19683\n",
      "3 ^ 10 = 59049\n"
     ]
    }
   ],
   "source": [
    "#Write a Python program that takes a number and prints the powers of the number (starting from 1to 10) using a while loop. \n",
    "number = int(input(\"Enter a number between 1 and 10: \"))\n",
    "\n",
    "\n",
    "if 1 <= number <= 10:\n",
    "    \n",
    "    for i in range(1, 11):  # Loop from 1 to 10\n",
    "        print(f\"{number} ^ {i} = {number ** i}\")\n",
    "else:\n",
    "    print(\"Please enter a valid number between 1 and 10.\")"
   ]
  },
  {
   "cell_type": "markdown",
   "id": "2b0faa00-9c76-4fa5-a9b1-68f264231e85",
   "metadata": {},
   "source": [
    "#QUESTION NO :9"
   ]
  },
  {
   "cell_type": "code",
   "execution_count": 23,
   "id": "ed77219c-9597-4abd-8b38-528123257071",
   "metadata": {},
   "outputs": [
    {
     "name": "stdin",
     "output_type": "stream",
     "text": [
      "Enter a number :  5\n"
     ]
    },
    {
     "name": "stdout",
     "output_type": "stream",
     "text": [
      "5\n",
      "4\n",
      "3\n",
      "2\n",
      "1\n",
      "0\n",
      "countdown Finish!\n"
     ]
    }
   ],
   "source": [
    "number = int(input(\"Enter a number : \"))\n",
    "while (number >= 0 ):\n",
    "    print(number)\n",
    "    number -= 1\n",
    "print(\"countdown Finish!\")"
   ]
  },
  {
   "cell_type": "markdown",
   "id": "02f7f4a1-c5c5-4e74-8111-0841d597c2da",
   "metadata": {},
   "source": [
    "#QUESTION NO :10"
   ]
  },
  {
   "cell_type": "code",
   "execution_count": 28,
   "id": "f1af3fc7-fd79-4d76-b817-188378d0c5d9",
   "metadata": {},
   "outputs": [
    {
     "name": "stdin",
     "output_type": "stream",
     "text": [
      "enter num 5\n"
     ]
    },
    {
     "name": "stdout",
     "output_type": "stream",
     "text": [
      "\n",
      "*\n",
      "\n",
      "**\n",
      "\n",
      "***\n",
      "\n",
      "****\n",
      "\n",
      "*****\n"
     ]
    }
   ],
   "source": [
    "n = int(input(\"enter num\"))\n",
    "star = \"\"\n",
    "for i in range(1, n+1):\n",
    "    star = star + \"*\"\n",
    "    print(\"\\n\" + star)\n",
    "    "
   ]
  },
  {
   "cell_type": "code",
   "execution_count": null,
   "id": "33502657-a7f1-4e4b-b32b-36f8a858bac9",
   "metadata": {},
   "outputs": [],
   "source": []
  }
 ],
 "metadata": {
  "kernelspec": {
   "display_name": "Python 3 (ipykernel)",
   "language": "python",
   "name": "python3"
  },
  "language_info": {
   "codemirror_mode": {
    "name": "ipython",
    "version": 3
   },
   "file_extension": ".py",
   "mimetype": "text/x-python",
   "name": "python",
   "nbconvert_exporter": "python",
   "pygments_lexer": "ipython3",
   "version": "3.12.7"
  }
 },
 "nbformat": 4,
 "nbformat_minor": 5
}
